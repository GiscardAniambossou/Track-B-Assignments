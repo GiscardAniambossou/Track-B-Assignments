{
  "cells": [
    {
      "cell_type": "markdown",
      "metadata": {
        "colab_type": "text",
        "id": "view-in-github"
      },
      "source": [
        "<a href=\"https://colab.research.google.com/github/niteen11/lagcc_data_analytics_micro_credential/blob/master/Unit%203%20-%20Python%20Advanced/Assignments/Unit3_Python_Advanced_Pandas_DataWrangling_Assignment.ipynb\" target=\"_parent\"><img src=\"https://colab.research.google.com/assets/colab-badge.svg\" alt=\"Open In Colab\"/></a>"
      ]
    },
    {
      "cell_type": "markdown",
      "metadata": {
        "id": "M9lK1TbaRC11"
      },
      "source": [
        "# Assignment 1 : Python Data Analysis using salaries dataset"
      ]
    },
    {
      "cell_type": "markdown",
      "metadata": {
        "id": "CHpOD5OcaO9j"
      },
      "source": [
        "# Data Exploration:  This should include summary statistics, means, medians, quartiles, or any other relevant information about the data set. "
      ]
    },
    {
      "cell_type": "code",
      "execution_count": null,
      "metadata": {
        "id": "NB7kwRqMaFIA"
      },
      "outputs": [],
      "source": [
        "import pandas as pd \n",
        "import numpy as np\n",
        "import matplotlib.pyplot as plt\n",
        "%matplotlib inline"
      ]
    },
    {
      "cell_type": "code",
      "execution_count": null,
      "metadata": {
        "id": "SBTN0yjtbEBP"
      },
      "outputs": [],
      "source": [
        "df = pd.read_csv('https://raw.githubusercontent.com/CunyLaguardiaDataAnalytics/datasets/master/Salaries.csv')"
      ]
    },
    {
      "cell_type": "code",
      "execution_count": null,
      "metadata": {},
      "outputs": [],
      "source": [
        "df"
      ]
    },
    {
      "cell_type": "code",
      "execution_count": null,
      "metadata": {
        "colab": {
          "base_uri": "https://localhost:8080/",
          "height": 34
        },
        "id": "eOTZmRkCbyBY",
        "outputId": "52387cb3-a286-4514-ef4e-52d3e28e62c8"
      },
      "outputs": [],
      "source": [
        "type(df)"
      ]
    },
    {
      "cell_type": "code",
      "execution_count": null,
      "metadata": {
        "colab": {
          "base_uri": "https://localhost:8080/",
          "height": 34
        },
        "id": "A4UW5eOccATX",
        "outputId": "6a2c604c-08c5-4cae-817e-05cbe43eb4c5"
      },
      "outputs": [],
      "source": [
        "# 397 rows = 397 employees\n",
        "df.shape"
      ]
    },
    {
      "cell_type": "code",
      "execution_count": null,
      "metadata": {
        "colab": {
          "base_uri": "https://localhost:8080/",
          "height": 195
        },
        "id": "IERZRhoJbYxC",
        "outputId": "f64894e9-b873-4fe6-e524-e95efdf05dcd"
      },
      "outputs": [],
      "source": [
        "df.head()"
      ]
    },
    {
      "cell_type": "code",
      "execution_count": null,
      "metadata": {
        "colab": {
          "base_uri": "https://localhost:8080/",
          "height": 195
        },
        "id": "va7JVaVkbgf5",
        "outputId": "e31ce49a-d9da-4476-9e98-efda3448a9bd"
      },
      "outputs": [],
      "source": [
        "df.tail()"
      ]
    },
    {
      "cell_type": "code",
      "execution_count": null,
      "metadata": {
        "colab": {
          "base_uri": "https://localhost:8080/",
          "height": 284
        },
        "id": "nNjdIb0YbjBy",
        "outputId": "0d8298ef-d0a1-4699-9230-46845b042ec6"
      },
      "outputs": [],
      "source": [
        "df.describe()"
      ]
    },
    {
      "cell_type": "markdown",
      "metadata": {
        "id": "oOu2hmOQaUAG"
      },
      "source": [
        "# Mean/median of all salaries"
      ]
    },
    {
      "cell_type": "code",
      "execution_count": null,
      "metadata": {
        "colab": {
          "base_uri": "https://localhost:8080/",
          "height": 34
        },
        "id": "wgaarFV3cVM9",
        "outputId": "eea56047-8273-47aa-caa9-36ea0e5e62ba"
      },
      "outputs": [],
      "source": [
        "# Mean of all salaries\n",
        "\n",
        "print(f\"The mean of all salaries totals:\\n ${df['salary'].mean().astype(int)}\")\n"
      ]
    },
    {
      "cell_type": "code",
      "execution_count": null,
      "metadata": {
        "colab": {
          "base_uri": "https://localhost:8080/",
          "height": 34
        },
        "id": "1qQDqlPlcae3",
        "outputId": "cb98f2c1-e377-4046-d211-56aa53aa0933"
      },
      "outputs": [],
      "source": [
        "# Median of all salaries\n",
        "\n",
        "print(f\"The median of all salaries totals:\\n ${df['salary'].median().astype(int)}\")\n"
      ]
    },
    {
      "cell_type": "markdown",
      "metadata": {
        "id": "yCy0KrhbaV5n"
      },
      "source": [
        "# Median salary between gender and/or rank(title) Etc...\n"
      ]
    },
    {
      "cell_type": "markdown",
      "metadata": {
        "id": "pBNcIW03WmS2"
      },
      "source": [
        "Making a new Data Frame that only has the columns 'sex' and 'salary'"
      ]
    },
    {
      "cell_type": "code",
      "execution_count": null,
      "metadata": {
        "id": "jWAVicJXc-lk"
      },
      "outputs": [],
      "source": [
        "\n",
        "dfgendersalary = df[['sex','salary']]\n",
        "\n",
        "dfgendersalary\n"
      ]
    },
    {
      "cell_type": "markdown",
      "metadata": {
        "id": "j6FRmL60Wxsl"
      },
      "source": [
        "Finding the Median salary for all males"
      ]
    },
    {
      "cell_type": "code",
      "execution_count": null,
      "metadata": {
        "id": "ky6vVVnRdlnA"
      },
      "outputs": [],
      "source": [
        "\n",
        "malesalary_df = df[(df.sex ==(\"Male\"))]\n",
        "\n",
        "print(f\"The median of all males' salaries totals:\\n ${malesalary_df['salary'].median().astype(int)}\")\n"
      ]
    },
    {
      "cell_type": "code",
      "execution_count": null,
      "metadata": {},
      "outputs": [],
      "source": [
        "df.groupby(['sex'])['salary'].median()"
      ]
    },
    {
      "cell_type": "markdown",
      "metadata": {
        "id": "LeJTjR7IXAfs"
      },
      "source": [
        "Finding the Median salary for all females"
      ]
    },
    {
      "cell_type": "code",
      "execution_count": null,
      "metadata": {
        "id": "1oUJYrOP9Fub"
      },
      "outputs": [],
      "source": [
        "\n",
        "femalesalary_df = df[(df.sex ==(\"Female\"))]\n",
        "\n",
        "print(f\"The median of all females' salaries totals:\\n ${femalesalary_df['salary'].median().astype(int)}\")\n"
      ]
    },
    {
      "cell_type": "code",
      "execution_count": null,
      "metadata": {},
      "outputs": [],
      "source": [
        "df.groupby(['sex'])['salary'].median()"
      ]
    },
    {
      "cell_type": "markdown",
      "metadata": {
        "id": "5Tw_igCfXWmB"
      },
      "source": [
        "Comparing the Mean salary of Males and Females"
      ]
    },
    {
      "cell_type": "code",
      "execution_count": null,
      "metadata": {
        "id": "R7TV0xtE9Ll8"
      },
      "outputs": [],
      "source": [
        "\n",
        "malesalary_df[\"salary\"].mean().astype(int)\n",
        "\n",
        "print(f\"The mean of all males' salaries totals:\\n ${malesalary_df['salary'].mean().astype(int)}\")\n"
      ]
    },
    {
      "cell_type": "code",
      "execution_count": null,
      "metadata": {
        "id": "aPyxwdS69LpN"
      },
      "outputs": [],
      "source": [
        "\n",
        "femalesalary_df[\"salary\"].mean().astype(int)\n",
        "\n",
        "print(f\"The mean of all females' salaries totals:\\n ${femalesalary_df['salary'].mean().astype(int)}\")\n"
      ]
    },
    {
      "cell_type": "code",
      "execution_count": null,
      "metadata": {
        "id": "xOWSRisa9LyG"
      },
      "outputs": [],
      "source": [
        "# The difference between mean salaries of male and female\n",
        "\n",
        "spreadofmeangendersalaries = malesalary_df['salary'].mean()-femalesalary_df['salary'].mean()\n",
        "\n",
        "print(f\"The difference between mean salaries of men and women totals:\\n ${spreadofmeangendersalaries.astype(int)}\")\n"
      ]
    },
    {
      "cell_type": "code",
      "execution_count": null,
      "metadata": {},
      "outputs": [],
      "source": [
        "df.groupby(['sex'])['salary'].mean().plot(kind='bar')"
      ]
    },
    {
      "cell_type": "markdown",
      "metadata": {
        "id": "fufsyykZafDa"
      },
      "source": [
        "# Data Wrangling – perform some basic transformations on the data"
      ]
    },
    {
      "cell_type": "markdown",
      "metadata": {
        "id": "KWpSuxybUGWK"
      },
      "source": [
        "People who have 20 years of experience (Total: 157), (Mean Salary: 122,520.66)"
      ]
    },
    {
      "cell_type": "code",
      "execution_count": null,
      "metadata": {},
      "outputs": [],
      "source": [
        "df.rename(columns={'yrs.service':'yrsservice'}, inplace = True)\n",
        "yearsexp20_df = df[(df.yrsservice == 20)]\n",
        "\n",
        "print(f\"The mean salary of those with 20 years of eperience totals:\\n ${yearsexp20_df['salary'].mean().astype(int)}\")\n",
        "\n"
      ]
    },
    {
      "cell_type": "markdown",
      "metadata": {
        "id": "rnhjMu7qX7ao"
      },
      "source": [
        "Comparing the salaries of people who have 20+ years of experience vs less than 20 years of experience"
      ]
    },
    {
      "cell_type": "code",
      "execution_count": null,
      "metadata": {
        "id": "VLBmpIXc9gKh"
      },
      "outputs": [],
      "source": [
        "yearsexpgreater20 = df[(df.yrsservice > 20)]\n",
        "yearsexpless20 = df[(df.yrsservice < 20)]\n",
        "yearsexpgreater20['salary'].mean().astype(int)\n",
        "\n",
        "print(f\"The mean salary of those with more than 20 years of eperience totals:\\n ${yearsexpgreater20['salary'].mean().astype(int)}\")\n",
        "\n",
        "print(f\"The mean salary of those with less than 20 years of eperience totals:\\n ${yearsexpless20['salary'].mean().astype(int)}\")"
      ]
    },
    {
      "cell_type": "code",
      "execution_count": null,
      "metadata": {},
      "outputs": [],
      "source": [
        "df.groupby(['yrsservice'])['salary'].mean().plot(kind='hist')"
      ]
    },
    {
      "cell_type": "code",
      "execution_count": null,
      "metadata": {},
      "outputs": [],
      "source": [
        "df.plot.scatter(x='yrsservice',y='salary')"
      ]
    },
    {
      "cell_type": "markdown",
      "metadata": {
        "id": "54eM4tj4V66j"
      },
      "source": [
        "People who have salary of greater than or equal to 200,000"
      ]
    },
    {
      "cell_type": "code",
      "execution_count": null,
      "metadata": {},
      "outputs": [],
      "source": [
        "salarymoreequal200k = df[(df.salary >= 200000)]\n",
        "salarymoreequal200k\n"
      ]
    },
    {
      "cell_type": "markdown",
      "metadata": {
        "id": "8zwXwZF0ZbPG"
      },
      "source": [
        "Your Findings here...\n"
      ]
    },
    {
      "cell_type": "markdown",
      "metadata": {
        "id": "Omuf-X37agBG"
      },
      "source": [
        "# Rename values, subset columns, etc"
      ]
    },
    {
      "cell_type": "code",
      "execution_count": null,
      "metadata": {
        "id": "6DzowXPt9vM3"
      },
      "outputs": [],
      "source": [
        "df.rename(columns={'yrs.since.phd':'yrssincephd'}, inplace = True)"
      ]
    },
    {
      "cell_type": "code",
      "execution_count": null,
      "metadata": {
        "id": "k8Dah3NK9vYR"
      },
      "outputs": [],
      "source": []
    },
    {
      "cell_type": "markdown",
      "metadata": {
        "id": "aExLKbRRaiAv"
      },
      "source": [
        "# Create some simple visualizations showing some simple statistics"
      ]
    },
    {
      "cell_type": "code",
      "execution_count": null,
      "metadata": {},
      "outputs": [],
      "source": [
        "df"
      ]
    },
    {
      "cell_type": "code",
      "execution_count": 364,
      "metadata": {
        "id": "JX_P5QHV92Ji"
      },
      "outputs": [
        {
          "data": {
            "text/plain": [
              "<AxesSubplot:xlabel='discipline'>"
            ]
          },
          "execution_count": 364,
          "metadata": {},
          "output_type": "execute_result"
        },
        {
          "data": {
            "image/png": "[encoded data removed]",
            "text/plain": [
              "<Figure size 432x288 with 1 Axes>"
            ]
          },
          "metadata": {
            "needs_background": "light"
          },
          "output_type": "display_data"
        }
      ],
      "source": [
        "df.groupby(['discipline'])['salary'].mean().plot(kind=\"bar\")"
      ]
    },
    {
      "cell_type": "code",
      "execution_count": null,
      "metadata": {},
      "outputs": [],
      "source": [
        "## reference\n",
        "spreadofmeangendersalaries = malesalary_df['salary'].mean()-femalesalary_df['salary'].mean()\n",
        "\n",
        "spreadofmeangendersalaries = malesalary_df['salary'].mean()-femalesalary_df['salary'].mean()"
      ]
    },
    {
      "cell_type": "code",
      "execution_count": null,
      "metadata": {},
      "outputs": [],
      "source": [
        "df.groupby(['discipline'])['salary'].mean()"
      ]
    },
    {
      "cell_type": "code",
      "execution_count": null,
      "metadata": {},
      "outputs": [],
      "source": [
        "\n",
        "disciplinea_df = df[(df.discipline ==(\"A\"))]\n",
        "disciplineb_df = df[(df.discipline ==(\"B\"))]\n",
        "\n",
        "a=disciplinea_df[\"salary\"].mean()\n",
        "b=disciplineb_df['salary'].mean()\n",
        "\n",
        "\n",
        "print(f'The percentage increase between the mean salaries of Discipline A and Discipline B totals:\\n {(((b-a)/(a))*100)}%')\n",
        "\n",
        "\n",
        "\n",
        "spreadofmeandisciplinesalaries = disciplineb_df['salary'].mean()-disciplinea_df['salary'].mean()\n",
        "\n",
        "print(f\"The difference between the mean salaries of Discipline A and Discipline B totals:\\n ${spreadofmeandisciplinesalaries.astype(int)}\")"
      ]
    },
    {
      "cell_type": "markdown",
      "metadata": {
        "id": "vM_4yRvgd6h2"
      },
      "source": [
        "Your observations from the visuals: "
      ]
    },
    {
      "cell_type": "code",
      "execution_count": null,
      "metadata": {},
      "outputs": [],
      "source": [
        "# From the visual above, one can assume that professors in disciplne B make on average $9,840 (8.73%) more than professors in discipline A."
      ]
    },
    {
      "cell_type": "markdown",
      "metadata": {
        "id": "mZoOuCUvakSc"
      },
      "source": [
        "# Draw some conclusions based on the data.  What did you discover?"
      ]
    },
    {
      "cell_type": "markdown",
      "metadata": {
        "id": "gBp8qWEDbhKH"
      },
      "source": [
        "Based on the analysis performed above, the conclusions are as follows:\n",
        "\n",
        "Your Findings here...\n",
        "\n",
        "\n",
        "\n",
        "I also discovered that the -\n",
        "\n",
        " Your Findings here...\n",
        "\n",
        "\n",
        "\n"
      ]
    }
  ],
  "metadata": {
    "colab": {
      "collapsed_sections": [],
      "include_colab_link": true,
      "name": "Unit3_Python_Advanced_Pandas_DataWrangling_Assignment.ipynb",
      "provenance": [],
      "toc_visible": true
    },
    "kernelspec": {
      "display_name": "Python 3",
      "name": "python3"
    },
    "language_info": {
      "codemirror_mode": {
        "name": "ipython",
        "version": 3
      },
      "file_extension": ".py",
      "mimetype": "text/x-python",
      "name": "python",
      "nbconvert_exporter": "python",
      "pygments_lexer": "ipython3",
      "version": "3.10.1"
    }
  },
  "nbformat": 4,
  "nbformat_minor": 0
}

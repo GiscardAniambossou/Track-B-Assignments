{
  "cells": [
    {
      "cell_type": "markdown",
      "metadata": {
        "colab_type": "text",
        "id": "view-in-github"
      },
      "source": [
        "<a href=\"https://colab.research.google.com/github/niteen11/lagcc_data_analytics_micro_credential/blob/master/Unit%202%20-%20Python%20Fundamentals/Mini%20Project/Unit2_Mini_Project.ipynb\" target=\"_parent\"><img src=\"https://colab.research.google.com/assets/colab-badge.svg\" alt=\"Open In Colab\"/></a>"
      ]
    },
    {
      "cell_type": "markdown",
      "metadata": {
        "id": "Vgs8Kp4TidFQ"
      },
      "source": [
        "# Intrdouction to Python - Mini Project"
      ]
    },
    {
      "cell_type": "code",
      "execution_count": null,
      "metadata": {},
      "outputs": [],
      "source": []
    },
    {
      "cell_type": "markdown",
      "metadata": {
        "id": "_Hq7Ny79iwgD"
      },
      "source": [
        "#Python Project – Odd or Even\n",
        "\n",
        "Ask the user for a number. Depending on whether the number is even or odd, print out an appropriate message to the user. Hint: how does an even / odd number react differently when divided by 2?\n"
      ]
    },
    {
      "cell_type": "code",
      "execution_count": 20,
      "metadata": {
        "id": "lotvpVpvlKsR"
      },
      "outputs": [
        {
          "name": "stdout",
          "output_type": "stream",
          "text": [
            "Hmm, tastes like an even number.\n"
          ]
        }
      ],
      "source": [
        "numbertocheck = int(input('Gir, reporting for duty! *squeals* Feed me a number.'))\n",
        "\n",
        "#even will return 0 | odd will return 1\n",
        "\n",
        "if numbertocheck % 2 == 1:\n",
        "    print('Hmm, tastes like an odd number.')\n",
        "else:\n",
        "    print(\"Hmm, tastes like an even number.\")\n"
      ]
    },
    {
      "cell_type": "markdown",
      "metadata": {
        "id": "io_27RSlizno"
      },
      "source": [
        "# Bonus:\n",
        "\n",
        "1.\tIf the number is a multiple of 4, print out a different message.\n",
        "\n",
        "2.\tAsk the user for two numbers: one number to check (call it num) and one number to divide by (check). If check divides evenly into num, tell that to the user. If not, print a different appropriate message.\n"
      ]
    },
    {
      "cell_type": "code",
      "execution_count": 21,
      "metadata": {
        "id": "Dh1o5cAylSHB"
      },
      "outputs": [
        {
          "name": "stdout",
          "output_type": "stream",
          "text": [
            "Not only do I taste an even number, I'm getting a hint of 'multiple of 4-ness'.\n"
          ]
        }
      ],
      "source": [
        "# multiple of 4 will return 0\n",
        "if numbertocheck % 4 == 0 and numbertocheck % 2 == 0:\n",
        "    print(\"Not only do I taste an even number, I'm getting a hint of 'multiple of 4-ness'.\")\n",
        "elif numbertocheck % 2 == 1:\n",
        "    print('Hmm, tastes like an odd number.')\n",
        "else:\n",
        "    print(\"Hmm, tastes like an even number.\")"
      ]
    },
    {
      "cell_type": "code",
      "execution_count": 35,
      "metadata": {
        "id": "vs8ppR-wlSKL"
      },
      "outputs": [
        {
          "name": "stdout",
          "output_type": "stream",
          "text": [
            "If you didn't know already, 84 doesn't divide evenly into 58589598, but it does total 697495.2142857143.\n"
          ]
        }
      ],
      "source": [
        "dividend = int(input('Give me the first of two numbers.'))\n",
        "divisor = int(input(\"Now, the second.\"))\n",
        "\n",
        "if dividend % divisor == 0:\n",
        "    print(f\"If you didn't know already, {divisor} divides evenly into {dividend}, for a total of {dividend/divisor}.\")\n",
        "else: print(f\"If you didn't know already, {divisor} doesn't divide evenly into {dividend}, but it does total {dividend/divisor}.\")"
      ]
    }
  ],
  "metadata": {
    "colab": {
      "authorship_tag": "ABX9TyPv6UTDnLJown4zuKgtgDOQ",
      "collapsed_sections": [],
      "include_colab_link": true,
      "name": "Unit2_Mini_Project.ipynb",
      "provenance": [],
      "toc_visible": true
    },
    "kernelspec": {
      "display_name": "Python 3",
      "name": "python3"
    },
    "language_info": {
      "codemirror_mode": {
        "name": "ipython",
        "version": 3
      },
      "file_extension": ".py",
      "mimetype": "text/x-python",
      "name": "python",
      "nbconvert_exporter": "python",
      "pygments_lexer": "ipython3",
      "version": "3.10.1"
    }
  },
  "nbformat": 4,
  "nbformat_minor": 0
}

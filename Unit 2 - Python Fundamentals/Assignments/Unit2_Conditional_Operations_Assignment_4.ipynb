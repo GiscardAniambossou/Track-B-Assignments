{
  "cells": [
    {
      "cell_type": "markdown",
      "metadata": {
        "colab_type": "text",
        "id": "view-in-github"
      },
      "source": [
        "<a href=\"https://colab.research.google.com/github/niteen11/lagcc_data_analytics_micro_credential/blob/master/Unit%202%20-%20Python%20Fundamentals/Assignments/Unit2_Conditional_Operations_Assignment_4.ipynb\" target=\"_parent\"><img src=\"https://colab.research.google.com/assets/colab-badge.svg\" alt=\"Open In Colab\"/></a>"
      ]
    },
    {
      "cell_type": "markdown",
      "metadata": {
        "id": "Vgs8Kp4TidFQ"
      },
      "source": [
        "# Intrdouction to Python - Conditional Operations Assignment #4\n",
        "\n",
        "## If-elif-else Statements "
      ]
    },
    {
      "cell_type": "markdown",
      "metadata": {
        "id": "_Hq7Ny79iwgD"
      },
      "source": [
        "## 1.\tMake a list of 5 or more usernames, including an admin account.  Imagine you are writing code that will welcome people to your application on login. Loop through the list and print your greeting.\n",
        "\n",
        "a.\tIf the admin account logs in, give them a special greeting.  They’re the admin, after all!\n",
        "\n",
        "b.\tOther users can get the generic greeting\n",
        "\n"
      ]
    },
    {
      "cell_type": "code",
      "execution_count": 1,
      "metadata": {
        "id": "lotvpVpvlKsR"
      },
      "outputs": [
        {
          "name": "stdout",
          "output_type": "stream",
          "text": [
            "Areeb\n",
            "Reeee\n",
            "Winrar\n",
            "Yaboijeff\n",
            "Brand_S\n",
            "Mushroom\n",
            "Hi, Mushroom. I see you're an administrator!\n"
          ]
        }
      ],
      "source": [
        "## if admin, give a special greeting\n",
        "##if else, give generic\n",
        "\n",
        "usernames = ['areeb','reeee','Winrar','YaBoiJeff','brandS','mushroom']\n",
        "\n",
        "admins=['mushroom']\n",
        "\n",
        "\n",
        "usersigningin='mushroom'\n",
        "\n",
        "if usersigningin in admins: \n",
        "\tgreeting=(\"What's up administrator!\")\n",
        "else: greeting=(\"Hello there!\")\n",
        "\n",
        "usernames_status ={\n",
        "\t'areeb':'normal',\n",
        "\t'reeee':'normal',\n",
        "\t'Winrar':'normal',\n",
        "\t'YaBoiJeff':'normal',\n",
        "\t'brand_s':'normal',\n",
        "\t'mushroom':'administrator'\n",
        "}\n",
        "\n",
        "\n",
        "for user in usernames_status.keys():\n",
        "\tprint(user.title())\n",
        "\n",
        "\tif user in admins:\n",
        "\t\tprint(\"Hi, \" + user.title() +\". I see you're an \" + usernames_status[user]+\"!\")"
      ]
    },
    {
      "cell_type": "markdown",
      "metadata": {
        "id": "io_27RSlizno"
      },
      "source": [
        "## 2.\tStore numbers 1-10 in a list\n",
        "\n",
        "a.\tLoop through the list\n",
        "\n",
        "b.\tUse an if-elif-else chain inside your loop to print the ordinal ending for each number – for example – 1st, 2nd, 3rd … etc.\n",
        "\n"
      ]
    },
    {
      "cell_type": "code",
      "execution_count": 5,
      "metadata": {
        "id": "Dh1o5cAylSHB"
      },
      "outputs": [
        {
          "name": "stdout",
          "output_type": "stream",
          "text": [
            "[1, 2, 3, 4, 5, 6, 7, 8, 9, 10]\n",
            "1st\n",
            "2nd\n",
            "3rd\n",
            "4th\n",
            "5th\n",
            "6th\n",
            "7th\n",
            "8th\n",
            "9th\n",
            "10th\n"
          ]
        }
      ],
      "source": [
        "numbers=list(range(1,11))\n",
        "print(numbers)\n",
        "\n",
        "## 1 st\n",
        "##2 nd\n",
        "##3 rd\n",
        "#4 5 6 7 8 9 10 th\t\n",
        "\n",
        "for number in numbers:\n",
        "\tif number == 1:\n",
        "\t\tprint('1st')\n",
        "\telif number == 2:\n",
        "\t\tprint('2nd')\n",
        "\telif number == 3 :\n",
        "\t\tprint('3rd')\n",
        "\telse:\n",
        "\t\tprint(f\"{number}th\")"
      ]
    }
  ],
  "metadata": {
    "colab": {
      "authorship_tag": "ABX9TyOjiNVgm2VYb7swVdGnd3a9",
      "collapsed_sections": [],
      "include_colab_link": true,
      "name": "Unit2_Conditional_Operations_Assignment_4.ipynb",
      "provenance": [],
      "toc_visible": true
    },
    "kernelspec": {
      "display_name": "Python 3",
      "name": "python3"
    },
    "language_info": {
      "codemirror_mode": {
        "name": "ipython",
        "version": 3
      },
      "file_extension": ".py",
      "mimetype": "text/x-python",
      "name": "python",
      "nbconvert_exporter": "python",
      "pygments_lexer": "ipython3",
      "version": "3.10.1"
    }
  },
  "nbformat": 4,
  "nbformat_minor": 0
}

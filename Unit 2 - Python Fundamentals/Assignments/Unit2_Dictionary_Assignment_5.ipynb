{
  "cells": [
    {
      "cell_type": "markdown",
      "metadata": {
        "colab_type": "text",
        "id": "view-in-github"
      },
      "source": [
        "<a href=\"https://colab.research.google.com/github/niteen11/lagcc_data_analytics_micro_credential/blob/master/Unit%202%20-%20Python%20Fundamentals/Assignments/Unit2_Dictionary_Assignment_5.ipynb\" target=\"_parent\"><img src=\"https://colab.research.google.com/assets/colab-badge.svg\" alt=\"Open In Colab\"/></a>"
      ]
    },
    {
      "cell_type": "markdown",
      "metadata": {
        "id": "Vgs8Kp4TidFQ"
      },
      "source": [
        "# Intrdouction to Python - Dictionary - Assignment #5 "
      ]
    },
    {
      "cell_type": "markdown",
      "metadata": {
        "id": "_Hq7Ny79iwgD"
      },
      "source": [
        "## 1.\tCreate a simple dictionary that stores 2 variables, for example: first and last name."
      ]
    },
    {
      "cell_type": "code",
      "execution_count": 2,
      "metadata": {},
      "outputs": [],
      "source": [
        "#test github push"
      ]
    },
    {
      "cell_type": "code",
      "execution_count": 3,
      "metadata": {
        "id": "lotvpVpvlKsR"
      },
      "outputs": [],
      "source": [
        "Associate={\n",
        "    'first_name':'Kasey',\n",
        "    'last_name':'Shou'\n",
        "}"
      ]
    },
    {
      "cell_type": "markdown",
      "metadata": {
        "id": "io_27RSlizno"
      },
      "source": [
        "## 2.\tPrint out those variables stored in your previous dictionary. "
      ]
    },
    {
      "cell_type": "code",
      "execution_count": 4,
      "metadata": {
        "id": "Dh1o5cAylSHB"
      },
      "outputs": [
        {
          "name": "stdout",
          "output_type": "stream",
          "text": [
            "{'first_name': 'Kasey', 'last_name': 'Shou'}\n"
          ]
        }
      ],
      "source": [
        "print(Associate)"
      ]
    },
    {
      "cell_type": "markdown",
      "metadata": {
        "id": "DAW8m8IQjRyR"
      },
      "source": [
        "## 3.\tAdd a message to those variables on printing: for example: “Hello, firstname lastname!”"
      ]
    },
    {
      "cell_type": "code",
      "execution_count": 5,
      "metadata": {
        "id": "guULMEhrjYtT"
      },
      "outputs": [
        {
          "name": "stdout",
          "output_type": "stream",
          "text": [
            "Hello, Kasey Shou\n"
          ]
        }
      ],
      "source": [
        "print(f\"Hello, {Associate['first_name']} {Associate['last_name']}\")"
      ]
    },
    {
      "cell_type": "markdown",
      "metadata": {
        "id": "dpa_YOt4jXyo"
      },
      "source": [
        "## 4.\tCreate a dictionary that holds 2 key: value pairs:\n",
        "\n",
        "a.\tLook through your dictionary and print each pair,\n"
      ]
    },
    {
      "cell_type": "code",
      "execution_count": 6,
      "metadata": {
        "id": "pltxfnh3iJLW"
      },
      "outputs": [],
      "source": [
        "Glossary = {\n",
        "    'wintle':'[ win-tl ] | verb | to tumble over; capsize',\n",
        "\t'kinesthetic' : '[ kin-uhs-thet-ik ] | adjective | needing to move',\n",
        "\t'distelfink':'[ dis-tl-fingk ] | noun | a stylized bird motif tradional in Pennsylvania German art',\n",
        "}"
      ]
    },
    {
      "cell_type": "code",
      "execution_count": 7,
      "metadata": {
        "id": "PzH5Rcn-jwPL"
      },
      "outputs": [
        {
          "name": "stdout",
          "output_type": "stream",
          "text": [
            "\n",
            "Word: wintle\n",
            "\n",
            "Definition: [ win-tl ] | verb | to tumble over; capsize\n",
            "\n",
            "Word: kinesthetic\n",
            "\n",
            "Definition: [ kin-uhs-thet-ik ] | adjective | needing to move\n",
            "\n",
            "Word: distelfink\n",
            "\n",
            "Definition: [ dis-tl-fingk ] | noun | a stylized bird motif tradional in Pennsylvania German art\n"
          ]
        }
      ],
      "source": [
        "for word, definition in Glossary. items():\n",
        "    print(f\"\\nWord: {word}\")\n",
        "    print(f\"\\nDefinition: {definition}\")"
      ]
    }
  ],
  "metadata": {
    "colab": {
      "authorship_tag": "ABX9TyMQClfokgj55ihmq+VneG5D",
      "collapsed_sections": [],
      "include_colab_link": true,
      "name": "Unit2_Dictionary_Assignment_5.ipynb",
      "provenance": [],
      "toc_visible": true
    },
    "kernelspec": {
      "display_name": "Python 3",
      "name": "python3"
    },
    "language_info": {
      "codemirror_mode": {
        "name": "ipython",
        "version": 3
      },
      "file_extension": ".py",
      "mimetype": "text/x-python",
      "name": "python",
      "nbconvert_exporter": "python",
      "pygments_lexer": "ipython3",
      "version": "3.10.1"
    }
  },
  "nbformat": 4,
  "nbformat_minor": 0
}
